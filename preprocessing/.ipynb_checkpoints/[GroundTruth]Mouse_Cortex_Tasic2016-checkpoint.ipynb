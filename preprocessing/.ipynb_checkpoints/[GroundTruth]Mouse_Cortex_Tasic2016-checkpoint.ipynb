{
 "cells": [
  {
   "cell_type": "markdown",
   "metadata": {},
   "source": [
    "# Tasic B. et al. 2016 Mouse Cortex\n",
    "\n",
    "## Reference:    \n",
    "[Tasic B, Menon V, Nguyen TN, Kim TK et al. Adult mouse cortical cell taxonomy revealed by single cell transcriptomics. Nat Neurosci 2016 Feb;19(2):335-46.](https://www.ncbi.nlm.nih.gov/pubmed/26727548)\n",
    "\n",
    "## GEO:    \n",
    "https://www.ncbi.nlm.nih.gov/geo/query/acc.cgi?acc=GSE71585"
   ]
  },
  {
   "cell_type": "code",
   "execution_count": 1,
   "metadata": {},
   "outputs": [
    {
     "name": "stdout",
     "output_type": "stream",
     "text": [
      "Populating the interactive namespace from numpy and matplotlib\n"
     ]
    }
   ],
   "source": [
    "%pylab inline\n",
    "\n",
    "import warnings\n",
    "warnings.filterwarnings(\"ignore\")\n",
    "\n",
    "import pandas as pd\n",
    "import scanpy as sc\n",
    "import anndata\n",
    "from SCCAF import *"
   ]
  },
  {
   "cell_type": "markdown",
   "metadata": {},
   "source": [
    "download counts"
   ]
  },
  {
   "cell_type": "code",
   "execution_count": 2,
   "metadata": {},
   "outputs": [],
   "source": [
    "cts = pd.read_csv(\"ftp://ftp.ncbi.nlm.nih.gov/geo/series/GSE81nnn/GSE81608/suppl/GSE81608_human_islets_rpkm.txt.gz\",\\\n",
    "                 sep='\\t', index_col=0)"
   ]
  },
  {
   "cell_type": "code",
   "execution_count": 3,
   "metadata": {},
   "outputs": [
    {
     "data": {
      "text/html": [
       "<div>\n",
       "<style scoped>\n",
       "    .dataframe tbody tr th:only-of-type {\n",
       "        vertical-align: middle;\n",
       "    }\n",
       "\n",
       "    .dataframe tbody tr th {\n",
       "        vertical-align: top;\n",
       "    }\n",
       "\n",
       "    .dataframe thead th {\n",
       "        text-align: right;\n",
       "    }\n",
       "</style>\n",
       "<table border=\"1\" class=\"dataframe\">\n",
       "  <thead>\n",
       "    <tr style=\"text-align: right;\">\n",
       "      <th></th>\n",
       "      <th>Sample_1</th>\n",
       "      <th>Sample_2</th>\n",
       "      <th>Sample_3</th>\n",
       "      <th>Sample_4</th>\n",
       "      <th>Sample_5</th>\n",
       "      <th>Sample_6</th>\n",
       "      <th>Sample_7</th>\n",
       "      <th>Sample_8</th>\n",
       "      <th>Sample_9</th>\n",
       "      <th>Sample_10</th>\n",
       "      <th>...</th>\n",
       "      <th>Sample_1591</th>\n",
       "      <th>Sample_1592</th>\n",
       "      <th>Sample_1593</th>\n",
       "      <th>Sample_1594</th>\n",
       "      <th>Sample_1595</th>\n",
       "      <th>Sample_1596</th>\n",
       "      <th>Sample_1597</th>\n",
       "      <th>Sample_1598</th>\n",
       "      <th>Sample_1599</th>\n",
       "      <th>Sample_1600</th>\n",
       "    </tr>\n",
       "    <tr>\n",
       "      <th>gene.id</th>\n",
       "      <th></th>\n",
       "      <th></th>\n",
       "      <th></th>\n",
       "      <th></th>\n",
       "      <th></th>\n",
       "      <th></th>\n",
       "      <th></th>\n",
       "      <th></th>\n",
       "      <th></th>\n",
       "      <th></th>\n",
       "      <th></th>\n",
       "      <th></th>\n",
       "      <th></th>\n",
       "      <th></th>\n",
       "      <th></th>\n",
       "      <th></th>\n",
       "      <th></th>\n",
       "      <th></th>\n",
       "      <th></th>\n",
       "      <th></th>\n",
       "      <th></th>\n",
       "    </tr>\n",
       "  </thead>\n",
       "  <tbody>\n",
       "    <tr>\n",
       "      <th>1</th>\n",
       "      <td>47.3396</td>\n",
       "      <td>24.0458</td>\n",
       "      <td>2.2743</td>\n",
       "      <td>0.0</td>\n",
       "      <td>0.0000</td>\n",
       "      <td>0.0</td>\n",
       "      <td>0.0</td>\n",
       "      <td>0.000</td>\n",
       "      <td>0.0</td>\n",
       "      <td>2.0351</td>\n",
       "      <td>...</td>\n",
       "      <td>0.0</td>\n",
       "      <td>0.3304</td>\n",
       "      <td>2.4857</td>\n",
       "      <td>0.0</td>\n",
       "      <td>8.1498</td>\n",
       "      <td>0.0</td>\n",
       "      <td>0.5372</td>\n",
       "      <td>31.1225</td>\n",
       "      <td>0.0000</td>\n",
       "      <td>0.5788</td>\n",
       "    </tr>\n",
       "    <tr>\n",
       "      <th>2</th>\n",
       "      <td>0.0000</td>\n",
       "      <td>0.0000</td>\n",
       "      <td>0.0000</td>\n",
       "      <td>0.0</td>\n",
       "      <td>0.0000</td>\n",
       "      <td>0.0</td>\n",
       "      <td>0.0</td>\n",
       "      <td>0.254</td>\n",
       "      <td>0.0</td>\n",
       "      <td>0.0000</td>\n",
       "      <td>...</td>\n",
       "      <td>0.0</td>\n",
       "      <td>0.0000</td>\n",
       "      <td>0.0000</td>\n",
       "      <td>0.0</td>\n",
       "      <td>0.0000</td>\n",
       "      <td>0.0</td>\n",
       "      <td>0.0000</td>\n",
       "      <td>0.0000</td>\n",
       "      <td>47.4664</td>\n",
       "      <td>0.0000</td>\n",
       "    </tr>\n",
       "    <tr>\n",
       "      <th>3</th>\n",
       "      <td>0.0000</td>\n",
       "      <td>0.0000</td>\n",
       "      <td>0.0000</td>\n",
       "      <td>0.0</td>\n",
       "      <td>0.0000</td>\n",
       "      <td>0.0</td>\n",
       "      <td>0.0</td>\n",
       "      <td>0.000</td>\n",
       "      <td>0.0</td>\n",
       "      <td>0.0000</td>\n",
       "      <td>...</td>\n",
       "      <td>0.0</td>\n",
       "      <td>0.0000</td>\n",
       "      <td>0.0000</td>\n",
       "      <td>0.0</td>\n",
       "      <td>0.0000</td>\n",
       "      <td>0.0</td>\n",
       "      <td>0.0000</td>\n",
       "      <td>0.0000</td>\n",
       "      <td>0.0000</td>\n",
       "      <td>0.0000</td>\n",
       "    </tr>\n",
       "    <tr>\n",
       "      <th>9</th>\n",
       "      <td>0.0000</td>\n",
       "      <td>0.0000</td>\n",
       "      <td>0.0000</td>\n",
       "      <td>0.0</td>\n",
       "      <td>130.9796</td>\n",
       "      <td>0.0</td>\n",
       "      <td>0.0</td>\n",
       "      <td>0.000</td>\n",
       "      <td>0.0</td>\n",
       "      <td>79.5905</td>\n",
       "      <td>...</td>\n",
       "      <td>0.0</td>\n",
       "      <td>0.0000</td>\n",
       "      <td>0.0000</td>\n",
       "      <td>0.0</td>\n",
       "      <td>0.0000</td>\n",
       "      <td>0.0</td>\n",
       "      <td>0.0000</td>\n",
       "      <td>0.0000</td>\n",
       "      <td>0.0000</td>\n",
       "      <td>0.0000</td>\n",
       "    </tr>\n",
       "    <tr>\n",
       "      <th>10</th>\n",
       "      <td>0.0000</td>\n",
       "      <td>0.0000</td>\n",
       "      <td>0.0000</td>\n",
       "      <td>0.0</td>\n",
       "      <td>0.0000</td>\n",
       "      <td>0.0</td>\n",
       "      <td>0.0</td>\n",
       "      <td>0.000</td>\n",
       "      <td>0.0</td>\n",
       "      <td>0.0000</td>\n",
       "      <td>...</td>\n",
       "      <td>0.0</td>\n",
       "      <td>0.0000</td>\n",
       "      <td>0.0000</td>\n",
       "      <td>0.0</td>\n",
       "      <td>0.0000</td>\n",
       "      <td>0.0</td>\n",
       "      <td>0.0000</td>\n",
       "      <td>0.0000</td>\n",
       "      <td>0.0000</td>\n",
       "      <td>0.0000</td>\n",
       "    </tr>\n",
       "  </tbody>\n",
       "</table>\n",
       "<p>5 rows × 1600 columns</p>\n",
       "</div>"
      ],
      "text/plain": [
       "         Sample_1  Sample_2  Sample_3  Sample_4  Sample_5  Sample_6  Sample_7  \\\n",
       "gene.id                                                                         \n",
       "1         47.3396   24.0458    2.2743       0.0    0.0000       0.0       0.0   \n",
       "2          0.0000    0.0000    0.0000       0.0    0.0000       0.0       0.0   \n",
       "3          0.0000    0.0000    0.0000       0.0    0.0000       0.0       0.0   \n",
       "9          0.0000    0.0000    0.0000       0.0  130.9796       0.0       0.0   \n",
       "10         0.0000    0.0000    0.0000       0.0    0.0000       0.0       0.0   \n",
       "\n",
       "         Sample_8  Sample_9  Sample_10  ...  Sample_1591  Sample_1592  \\\n",
       "gene.id                                 ...                             \n",
       "1           0.000       0.0     2.0351  ...          0.0       0.3304   \n",
       "2           0.254       0.0     0.0000  ...          0.0       0.0000   \n",
       "3           0.000       0.0     0.0000  ...          0.0       0.0000   \n",
       "9           0.000       0.0    79.5905  ...          0.0       0.0000   \n",
       "10          0.000       0.0     0.0000  ...          0.0       0.0000   \n",
       "\n",
       "         Sample_1593  Sample_1594  Sample_1595  Sample_1596  Sample_1597  \\\n",
       "gene.id                                                                    \n",
       "1             2.4857          0.0       8.1498          0.0       0.5372   \n",
       "2             0.0000          0.0       0.0000          0.0       0.0000   \n",
       "3             0.0000          0.0       0.0000          0.0       0.0000   \n",
       "9             0.0000          0.0       0.0000          0.0       0.0000   \n",
       "10            0.0000          0.0       0.0000          0.0       0.0000   \n",
       "\n",
       "         Sample_1598  Sample_1599  Sample_1600  \n",
       "gene.id                                         \n",
       "1            31.1225       0.0000       0.5788  \n",
       "2             0.0000      47.4664       0.0000  \n",
       "3             0.0000       0.0000       0.0000  \n",
       "9             0.0000       0.0000       0.0000  \n",
       "10            0.0000       0.0000       0.0000  \n",
       "\n",
       "[5 rows x 1600 columns]"
      ]
     },
     "execution_count": 3,
     "metadata": {},
     "output_type": "execute_result"
    }
   ],
   "source": [
    "cts.head()"
   ]
  },
  {
   "cell_type": "code",
   "execution_count": 4,
   "metadata": {},
   "outputs": [
    {
     "data": {
      "text/plain": [
       "(39851, 1600)"
      ]
     },
     "execution_count": 4,
     "metadata": {},
     "output_type": "execute_result"
    }
   ],
   "source": [
    "cts.shape"
   ]
  },
  {
   "cell_type": "code",
   "execution_count": 5,
   "metadata": {},
   "outputs": [],
   "source": [
    "# wget https://s3.amazonaws.com/scrnaseq-public-datasets/manual-data/xin/human_gene_annotation.csv\n",
    "# wget https://s3.amazonaws.com/scrnaseq-public-datasets/manual-data/xin/human_islet_cell_identity.txt"
   ]
  },
  {
   "cell_type": "code",
   "execution_count": 6,
   "metadata": {},
   "outputs": [],
   "source": [
    "obs = pd.read_csv(\"https://s3.amazonaws.com/scrnaseq-public-datasets/manual-data/xin/human_islet_cell_identity.txt\",\\\n",
    "                  sep='\\t', index_col=0)"
   ]
  },
  {
   "cell_type": "code",
   "execution_count": 7,
   "metadata": {},
   "outputs": [],
   "source": [
    "obs.index = obs.index.str.replace(' ','_')"
   ]
  },
  {
   "cell_type": "code",
   "execution_count": 8,
   "metadata": {},
   "outputs": [
    {
     "data": {
      "text/html": [
       "<div>\n",
       "<style scoped>\n",
       "    .dataframe tbody tr th:only-of-type {\n",
       "        vertical-align: middle;\n",
       "    }\n",
       "\n",
       "    .dataframe tbody tr th {\n",
       "        vertical-align: top;\n",
       "    }\n",
       "\n",
       "    .dataframe thead th {\n",
       "        text-align: right;\n",
       "    }\n",
       "</style>\n",
       "<table border=\"1\" class=\"dataframe\">\n",
       "  <thead>\n",
       "    <tr style=\"text-align: right;\">\n",
       "      <th></th>\n",
       "      <th>title</th>\n",
       "      <th>source.name</th>\n",
       "      <th>organism</th>\n",
       "      <th>tissue</th>\n",
       "      <th>molecule</th>\n",
       "      <th>processed.data.file</th>\n",
       "      <th>raw.file</th>\n",
       "      <th>donor.id</th>\n",
       "      <th>condition</th>\n",
       "      <th>age</th>\n",
       "      <th>ethnicity</th>\n",
       "      <th>gender</th>\n",
       "      <th>cell.type</th>\n",
       "    </tr>\n",
       "    <tr>\n",
       "      <th>Sample.name</th>\n",
       "      <th></th>\n",
       "      <th></th>\n",
       "      <th></th>\n",
       "      <th></th>\n",
       "      <th></th>\n",
       "      <th></th>\n",
       "      <th></th>\n",
       "      <th></th>\n",
       "      <th></th>\n",
       "      <th></th>\n",
       "      <th></th>\n",
       "      <th></th>\n",
       "      <th></th>\n",
       "    </tr>\n",
       "  </thead>\n",
       "  <tbody>\n",
       "    <tr>\n",
       "      <th>Sample_1</th>\n",
       "      <td>Islet cell</td>\n",
       "      <td>Pancreatic islets</td>\n",
       "      <td>Homo sapiens</td>\n",
       "      <td>Pancreatic islets</td>\n",
       "      <td>mRNA</td>\n",
       "      <td>expr_rpkm.txt</td>\n",
       "      <td>Sample_1.fq.gz</td>\n",
       "      <td>Non T2D 1</td>\n",
       "      <td>Healthy</td>\n",
       "      <td>23</td>\n",
       "      <td>AA</td>\n",
       "      <td>M</td>\n",
       "      <td>beta</td>\n",
       "    </tr>\n",
       "    <tr>\n",
       "      <th>Sample_2</th>\n",
       "      <td>Islet cell</td>\n",
       "      <td>Pancreatic islets</td>\n",
       "      <td>Homo sapiens</td>\n",
       "      <td>Pancreatic islets</td>\n",
       "      <td>mRNA</td>\n",
       "      <td>expr_rpkm.txt</td>\n",
       "      <td>Sample_2.fq.gz</td>\n",
       "      <td>Non T2D 1</td>\n",
       "      <td>Healthy</td>\n",
       "      <td>23</td>\n",
       "      <td>AA</td>\n",
       "      <td>M</td>\n",
       "      <td>beta</td>\n",
       "    </tr>\n",
       "    <tr>\n",
       "      <th>Sample_3</th>\n",
       "      <td>Islet cell</td>\n",
       "      <td>Pancreatic islets</td>\n",
       "      <td>Homo sapiens</td>\n",
       "      <td>Pancreatic islets</td>\n",
       "      <td>mRNA</td>\n",
       "      <td>expr_rpkm.txt</td>\n",
       "      <td>Sample_3.fq.gz</td>\n",
       "      <td>Non T2D 1</td>\n",
       "      <td>Healthy</td>\n",
       "      <td>23</td>\n",
       "      <td>AA</td>\n",
       "      <td>M</td>\n",
       "      <td>beta</td>\n",
       "    </tr>\n",
       "    <tr>\n",
       "      <th>Sample_4</th>\n",
       "      <td>Islet cell</td>\n",
       "      <td>Pancreatic islets</td>\n",
       "      <td>Homo sapiens</td>\n",
       "      <td>Pancreatic islets</td>\n",
       "      <td>mRNA</td>\n",
       "      <td>expr_rpkm.txt</td>\n",
       "      <td>Sample_4.fq.gz</td>\n",
       "      <td>Non T2D 1</td>\n",
       "      <td>Healthy</td>\n",
       "      <td>23</td>\n",
       "      <td>AA</td>\n",
       "      <td>M</td>\n",
       "      <td>beta</td>\n",
       "    </tr>\n",
       "    <tr>\n",
       "      <th>Sample_5</th>\n",
       "      <td>Islet cell</td>\n",
       "      <td>Pancreatic islets</td>\n",
       "      <td>Homo sapiens</td>\n",
       "      <td>Pancreatic islets</td>\n",
       "      <td>mRNA</td>\n",
       "      <td>expr_rpkm.txt</td>\n",
       "      <td>Sample_5.fq.gz</td>\n",
       "      <td>Non T2D 1</td>\n",
       "      <td>Healthy</td>\n",
       "      <td>23</td>\n",
       "      <td>AA</td>\n",
       "      <td>M</td>\n",
       "      <td>beta</td>\n",
       "    </tr>\n",
       "  </tbody>\n",
       "</table>\n",
       "</div>"
      ],
      "text/plain": [
       "                  title        source.name      organism             tissue  \\\n",
       "Sample.name                                                                   \n",
       "Sample_1     Islet cell  Pancreatic islets  Homo sapiens  Pancreatic islets   \n",
       "Sample_2     Islet cell  Pancreatic islets  Homo sapiens  Pancreatic islets   \n",
       "Sample_3     Islet cell  Pancreatic islets  Homo sapiens  Pancreatic islets   \n",
       "Sample_4     Islet cell  Pancreatic islets  Homo sapiens  Pancreatic islets   \n",
       "Sample_5     Islet cell  Pancreatic islets  Homo sapiens  Pancreatic islets   \n",
       "\n",
       "            molecule processed.data.file        raw.file   donor.id condition  \\\n",
       "Sample.name                                                                     \n",
       "Sample_1        mRNA       expr_rpkm.txt  Sample_1.fq.gz  Non T2D 1   Healthy   \n",
       "Sample_2        mRNA       expr_rpkm.txt  Sample_2.fq.gz  Non T2D 1   Healthy   \n",
       "Sample_3        mRNA       expr_rpkm.txt  Sample_3.fq.gz  Non T2D 1   Healthy   \n",
       "Sample_4        mRNA       expr_rpkm.txt  Sample_4.fq.gz  Non T2D 1   Healthy   \n",
       "Sample_5        mRNA       expr_rpkm.txt  Sample_5.fq.gz  Non T2D 1   Healthy   \n",
       "\n",
       "             age ethnicity gender cell.type  \n",
       "Sample.name                                  \n",
       "Sample_1      23        AA      M      beta  \n",
       "Sample_2      23        AA      M      beta  \n",
       "Sample_3      23        AA      M      beta  \n",
       "Sample_4      23        AA      M      beta  \n",
       "Sample_5      23        AA      M      beta  "
      ]
     },
     "execution_count": 8,
     "metadata": {},
     "output_type": "execute_result"
    }
   ],
   "source": [
    "obs.head()"
   ]
  },
  {
   "cell_type": "code",
   "execution_count": 9,
   "metadata": {},
   "outputs": [],
   "source": [
    "var = pd.read_csv(\"https://s3.amazonaws.com/scrnaseq-public-datasets/manual-data/xin/human_gene_annotation.csv\",index_col=0)"
   ]
  },
  {
   "cell_type": "code",
   "execution_count": 10,
   "metadata": {},
   "outputs": [
    {
     "data": {
      "text/html": [
       "<div>\n",
       "<style scoped>\n",
       "    .dataframe tbody tr th:only-of-type {\n",
       "        vertical-align: middle;\n",
       "    }\n",
       "\n",
       "    .dataframe tbody tr th {\n",
       "        vertical-align: top;\n",
       "    }\n",
       "\n",
       "    .dataframe thead th {\n",
       "        text-align: right;\n",
       "    }\n",
       "</style>\n",
       "<table border=\"1\" class=\"dataframe\">\n",
       "  <thead>\n",
       "    <tr style=\"text-align: right;\">\n",
       "      <th></th>\n",
       "      <th>symbol</th>\n",
       "    </tr>\n",
       "    <tr>\n",
       "      <th>gene.id</th>\n",
       "      <th></th>\n",
       "    </tr>\n",
       "  </thead>\n",
       "  <tbody>\n",
       "    <tr>\n",
       "      <th>1</th>\n",
       "      <td>A1BG</td>\n",
       "    </tr>\n",
       "    <tr>\n",
       "      <th>2</th>\n",
       "      <td>A2M</td>\n",
       "    </tr>\n",
       "    <tr>\n",
       "      <th>3</th>\n",
       "      <td>A2MP1</td>\n",
       "    </tr>\n",
       "    <tr>\n",
       "      <th>9</th>\n",
       "      <td>NAT1</td>\n",
       "    </tr>\n",
       "    <tr>\n",
       "      <th>10</th>\n",
       "      <td>NAT2</td>\n",
       "    </tr>\n",
       "  </tbody>\n",
       "</table>\n",
       "</div>"
      ],
      "text/plain": [
       "        symbol\n",
       "gene.id       \n",
       "1         A1BG\n",
       "2          A2M\n",
       "3        A2MP1\n",
       "9         NAT1\n",
       "10        NAT2"
      ]
     },
     "execution_count": 10,
     "metadata": {},
     "output_type": "execute_result"
    }
   ],
   "source": [
    "var.head()"
   ]
  },
  {
   "cell_type": "code",
   "execution_count": 13,
   "metadata": {},
   "outputs": [
    {
     "name": "stderr",
     "output_type": "stream",
     "text": [
      "AnnData expects string indices for some functionality, but your first two indices are: Int64Index([1, 2], dtype='int64', name='gene.id'). \n",
      "Transforming to str index.\n"
     ]
    }
   ],
   "source": [
    "ad = sc.AnnData(scipy.sparse.csr_matrix(cts.values.T))\n",
    "ad.obs_names = cts.columns\n",
    "ad.var_names = cts.index\n",
    "ad = ad[ad.obs_names.isin(obs.index),:]\n",
    "ad.obs = obs.loc[ad.obs_names]"
   ]
  },
  {
   "cell_type": "code",
   "execution_count": 14,
   "metadata": {},
   "outputs": [],
   "source": [
    "ad.obs['cell'] = ad.obs['cell.type']"
   ]
  },
  {
   "cell_type": "code",
   "execution_count": 16,
   "metadata": {},
   "outputs": [],
   "source": [
    "ad.var['gene.id'] = ad.var_names\n",
    "ad.var['symbol'] = var.loc[ad.var_names.astype(int)]['symbol'].tolist()\n",
    "ad.var_names = make_unique(ad.var['symbol'])"
   ]
  },
  {
   "cell_type": "code",
   "execution_count": 18,
   "metadata": {},
   "outputs": [],
   "source": [
    "ad.raw = sc.pp.log1p(ad,copy=True)"
   ]
  },
  {
   "cell_type": "code",
   "execution_count": 19,
   "metadata": {},
   "outputs": [
    {
     "data": {
      "text/plain": [
       "(1600, 39851)"
      ]
     },
     "execution_count": 19,
     "metadata": {},
     "output_type": "execute_result"
    }
   ],
   "source": [
    "ad.shape"
   ]
  },
  {
   "cell_type": "code",
   "execution_count": 20,
   "metadata": {},
   "outputs": [
    {
     "name": "stderr",
     "output_type": "stream",
     "text": [
      "... storing 'title' as categorical\n",
      "... storing 'source.name' as categorical\n",
      "... storing 'organism' as categorical\n",
      "... storing 'tissue' as categorical\n",
      "... storing 'molecule' as categorical\n",
      "... storing 'processed.data.file' as categorical\n",
      "... storing 'donor.id' as categorical\n",
      "... storing 'condition' as categorical\n",
      "... storing 'ethnicity' as categorical\n",
      "... storing 'gender' as categorical\n",
      "... storing 'cell.type' as categorical\n",
      "... storing 'cell' as categorical\n"
     ]
    }
   ],
   "source": [
    "ad.write(\"../write/Xin2016Pancreas.h5\")"
   ]
  },
  {
   "cell_type": "code",
   "execution_count": 34,
   "metadata": {},
   "outputs": [
    {
     "name": "stdout",
     "output_type": "stream",
     "text": [
      "-rw-r--r--  1 zmiao  384566875   147M 30 Sep 21:02 ../write/Xin2016Pancreas.h5\r\n"
     ]
    }
   ],
   "source": [
    "ls -lh ../write/Xin2016Pancreas.h5"
   ]
  },
  {
   "cell_type": "code",
   "execution_count": 34,
   "metadata": {},
   "outputs": [],
   "source": [
    "ad = sc.read(\"../write/Xin2016Pancreas.h5\")"
   ]
  },
  {
   "cell_type": "code",
   "execution_count": 35,
   "metadata": {},
   "outputs": [
    {
     "data": {
      "text/plain": [
       "<1600x39851 sparse matrix of type '<class 'numpy.float32'>'\n",
       "\twith 9162358 stored elements in Compressed Sparse Row format>"
      ]
     },
     "execution_count": 35,
     "metadata": {},
     "output_type": "execute_result"
    }
   ],
   "source": [
    "ad.X"
   ]
  },
  {
   "cell_type": "code",
   "execution_count": 22,
   "metadata": {},
   "outputs": [],
   "source": [
    "sc.pp.filter_cells(ad, min_genes=200)\n",
    "sc.pp.filter_genes(ad, min_cells=3)"
   ]
  },
  {
   "cell_type": "code",
   "execution_count": 23,
   "metadata": {},
   "outputs": [],
   "source": [
    "sc.pp.filter_genes(ad, min_cells=20)"
   ]
  },
  {
   "cell_type": "code",
   "execution_count": 24,
   "metadata": {},
   "outputs": [
    {
     "data": {
      "text/plain": [
       "alpha                 886\n",
       "beta                  472\n",
       "PP                     85\n",
       "alpha.contaminated     60\n",
       "delta                  49\n",
       "beta.contaminated      31\n",
       "delta.contaminated      9\n",
       "PP.contaminated         8\n",
       "Name: cell, dtype: int64"
      ]
     },
     "execution_count": 24,
     "metadata": {},
     "output_type": "execute_result"
    }
   ],
   "source": [
    "ad.obs['cell'].value_counts()"
   ]
  },
  {
   "cell_type": "code",
   "execution_count": 25,
   "metadata": {},
   "outputs": [],
   "source": [
    "ad = ad[~ad.obs['cell'].str.endswith('contaminated'),:]"
   ]
  },
  {
   "cell_type": "code",
   "execution_count": 26,
   "metadata": {},
   "outputs": [
    {
     "data": {
      "text/plain": [
       "View of AnnData object with n_obs × n_vars = 1492 × 22183 \n",
       "    obs: 'title', 'source.name', 'organism', 'tissue', 'molecule', 'processed.data.file', 'raw.file', 'donor.id', 'condition', 'age', 'ethnicity', 'gender', 'cell.type', 'cell', 'n_genes'\n",
       "    var: 'gene.id', 'symbol', 'n_cells'"
      ]
     },
     "execution_count": 26,
     "metadata": {},
     "output_type": "execute_result"
    }
   ],
   "source": [
    "ad"
   ]
  },
  {
   "cell_type": "code",
   "execution_count": 27,
   "metadata": {},
   "outputs": [
    {
     "name": "stderr",
     "output_type": "stream",
     "text": [
      "Trying to set attribute `.obs` of view, making a copy.\n"
     ]
    }
   ],
   "source": [
    "ad.obs['n_counts'] = ad.X.sum(axis=1)\n",
    "ad.obs['n_genes'] = (ad.X>0).sum(axis=1)\n",
    "# ad.var_names_make_unique()"
   ]
  },
  {
   "cell_type": "code",
   "execution_count": 28,
   "metadata": {},
   "outputs": [],
   "source": [
    "sc.pp.normalize_per_cell(ad, counts_per_cell_after=1e4)"
   ]
  },
  {
   "cell_type": "code",
   "execution_count": 29,
   "metadata": {},
   "outputs": [],
   "source": [
    "sc.pp.log1p(ad)\n",
    "# sc_pp_regress_out(ad,keys=['n_counts','n_genes','individual'])\n",
    "# sc.pp.scale(ad, max_value=10)\n",
    "sc.tl.pca(ad)"
   ]
  },
  {
   "cell_type": "code",
   "execution_count": 30,
   "metadata": {
    "scrolled": false
   },
   "outputs": [],
   "source": [
    "sc.tl.tsne(ad, n_pcs=50)\n",
    "sc.pp.neighbors(ad, n_pcs=50)\n",
    "sc.tl.umap(ad)\n",
    "sc.tl.louvain(ad, resolution=0.5)"
   ]
  },
  {
   "cell_type": "code",
   "execution_count": 31,
   "metadata": {},
   "outputs": [
    {
     "data": {
      "image/png": "[encoded data removed]",
      "text/plain": [
       "<Figure size 1263.6x360 with 4 Axes>"
      ]
     },
     "metadata": {
      "needs_background": "light"
     },
     "output_type": "display_data"
    }
   ],
   "source": [
    "figsize(5,5)\n",
    "sc.pl.tsne(ad, color=['cell','louvain','n_counts'])"
   ]
  },
  {
   "cell_type": "code",
   "execution_count": 32,
   "metadata": {},
   "outputs": [],
   "source": [
    "ad.write(\"../write/Xin2016Pancreas_reg.h5\")"
   ]
  },
  {
   "cell_type": "markdown",
   "metadata": {},
   "source": [
    "# End"
   ]
  },
  {
   "cell_type": "code",
   "execution_count": null,
   "metadata": {
    "collapsed": true
   },
   "outputs": [],
   "source": []
  }
 ],
 "metadata": {
  "kernelspec": {
   "display_name": "Python 3",
   "language": "python",
   "name": "python3"
  },
  "language_info": {
   "codemirror_mode": {
    "name": "ipython",
    "version": 3
   },
   "file_extension": ".py",
   "mimetype": "text/x-python",
   "name": "python",
   "nbconvert_exporter": "python",
   "pygments_lexer": "ipython3",
   "version": "3.7.3"
  }
 },
 "nbformat": 4,
 "nbformat_minor": 2
}
