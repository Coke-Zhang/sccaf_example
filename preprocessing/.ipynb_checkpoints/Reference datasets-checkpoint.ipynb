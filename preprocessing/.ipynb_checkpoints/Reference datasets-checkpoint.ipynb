{
 "cells": [
  {
   "cell_type": "markdown",
   "metadata": {},
   "source": [
    "# Datasets\n",
    "\n",
    "Tissue|Organism|Name|Accession|Year\n",
    "-|-|-|-|-\n",
    "Primary visual cortex|mouse|Tasic (2018)|[GSE115746](https://www.ncbi.nlm.nih.gov/geo/query/acc.cgi?acc=GSE115746)|2018\n",
    "Primary visual cortex|mouse|Tasic (2016)|[GSE71585](https://www.ncbi.nlm.nih.gov/geo/query/acc.cgi?acc=GSE71585)|2016\n",
    "Visual cortex|mouse|Hrvatin|[GSE102827](https://www.ncbi.nlm.nih.gov/geo/query/acc.cgi?acc=GSE102827)|2018\n",
    "Liver|human|MacParland|[GSE115469](https://www.ncbi.nlm.nih.gov/geo/query/acc.cgi?acc=GSE115469)|2018\n",
    "Liver|human|Aizarani|[GSE124395](https://www.ncbi.nlm.nih.gov/geo/query/acc.cgi?acc=GSE124395)|2019\n",
    "Pancreas|human|Xin|[GSE81608](https://www.ncbi.nlm.nih.gov/geo/query/acc.cgi?acc=GSE81608)|2016Oct\n",
    "Pancreas|human|Wang|[GSE83139](https://www.ncbi.nlm.nih.gov/geo/query/acc.cgi?acc=GSE83139)|2016Oct\n",
    "Pancreas|human|Lawlor|[GSE86469](https://www.ncbi.nlm.nih.gov/geo/query/acc.cgi?acc=GSE86469)|2017Feb\n",
    "Pancreas|human|Segerstolpe|[E-MTAB-5061]()|2016Sept\n",
    "Pancreas|human|Muraro|[GSE85241](https://www.ncbi.nlm.nih.gov/geo/query/acc.cgi?acc=GSE85241)|2016Oct\n",
    "Pancreas|human|Baron|[GSE84133](https://www.ncbi.nlm.nih.gov/geo/query/acc.cgi?acc=GSE84133)|2016Oct\n",
    "\n",
    "> Assumption: we cannot postdict.\n",
    "\n",
    "# Reference based methods\n",
    "\n",
    "Method|Language|URL\n",
    "-|-|-\n",
    "Logistic Regresion|python|SCCAF\n",
    "SingleR|R|https://github.com/dviraran/SingleR\n",
    "singleCellNet|R|https://github.com/pcahan1/singleCellNet\n",
    "moana|python|https://github.com/yanailab/moana\n",
    "ACTINN|python|https://github.com/mafeiyang/ACTINN\n",
    "scClassify|R|https://sydneybiox.github.io/scClassify"
   ]
  },
  {
   "cell_type": "markdown",
   "metadata": {},
   "source": [
    "# Train on Tasic2016 predict on Tasic2018\n",
    "![](./figures/tsneTasic2018.png)"
   ]
  },
  {
   "cell_type": "markdown",
   "metadata": {},
   "source": [
    "# Train on MacParland2018 predict on Aizarani2019\n",
    "![](./figures/tsneAizarani2019.png)"
   ]
  },
  {
   "cell_type": "code",
   "execution_count": null,
   "metadata": {},
   "outputs": [],
   "source": []
  }
 ],
 "metadata": {
  "kernelspec": {
   "display_name": "Python 3",
   "language": "python",
   "name": "python3"
  },
  "language_info": {
   "codemirror_mode": {
    "name": "ipython",
    "version": 3
   },
   "file_extension": ".py",
   "mimetype": "text/x-python",
   "name": "python",
   "nbconvert_exporter": "python",
   "pygments_lexer": "ipython3",
   "version": "3.7.3"
  }
 },
 "nbformat": 4,
 "nbformat_minor": 2
}
