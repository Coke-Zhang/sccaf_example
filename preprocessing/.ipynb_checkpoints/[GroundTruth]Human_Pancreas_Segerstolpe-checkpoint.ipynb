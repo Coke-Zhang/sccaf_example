{
 "cells": [
  {
   "cell_type": "markdown",
   "metadata": {},
   "source": [
    "# Segerstolpe, Å. et al. Human Pancreatic Islets (SM2)\n",
    "\n",
    "## Reference:    \n",
    "[Segerstolpe, Å. et al. Single-Cell Transcriptome Profiling of Human Pancreatic Islets in Health and Type 2 Diabetes. Cell Metab. 24, 593–607 (2016)](http://dx.doi.org/10.1016/j.cmet.2016.08.020)\n",
    "\n",
    "## ArrayExpress:    \n",
    "https://www.ebi.ac.uk/arrayexpress/files/E-MTAB-5061/"
   ]
  },
  {
   "cell_type": "code",
   "execution_count": 1,
   "metadata": {},
   "outputs": [
    {
     "name": "stdout",
     "output_type": "stream",
     "text": [
      "Populating the interactive namespace from numpy and matplotlib\n"
     ]
    }
   ],
   "source": [
    "%pylab inline\n",
    "\n",
    "import warnings\n",
    "warnings.filterwarnings(\"ignore\")\n",
    "\n",
    "from SCCAF import *"
   ]
  },
  {
   "cell_type": "markdown",
   "metadata": {},
   "source": [
    "download counts"
   ]
  },
  {
   "cell_type": "code",
   "execution_count": 2,
   "metadata": {},
   "outputs": [],
   "source": [
    "cts = pd.read_csv(\"https://www.ebi.ac.uk/arrayexpress/files/E-MTAB-5061/E-MTAB-5061.processed.1.zip\",\\\n",
    "                 sep='\\t',skiprows=[0], header=None, index_col=0)"
   ]
  },
  {
   "cell_type": "code",
   "execution_count": 3,
   "metadata": {},
   "outputs": [
    {
     "data": {
      "text/html": [
       "<div>\n",
       "<style scoped>\n",
       "    .dataframe tbody tr th:only-of-type {\n",
       "        vertical-align: middle;\n",
       "    }\n",
       "\n",
       "    .dataframe tbody tr th {\n",
       "        vertical-align: top;\n",
       "    }\n",
       "\n",
       "    .dataframe thead th {\n",
       "        text-align: right;\n",
       "    }\n",
       "</style>\n",
       "<table border=\"1\" class=\"dataframe\">\n",
       "  <thead>\n",
       "    <tr style=\"text-align: right;\">\n",
       "      <th></th>\n",
       "      <th>1</th>\n",
       "      <th>2</th>\n",
       "      <th>3</th>\n",
       "      <th>4</th>\n",
       "      <th>5</th>\n",
       "      <th>6</th>\n",
       "      <th>7</th>\n",
       "      <th>8</th>\n",
       "      <th>9</th>\n",
       "      <th>10</th>\n",
       "      <th>...</th>\n",
       "      <th>7020</th>\n",
       "      <th>7021</th>\n",
       "      <th>7022</th>\n",
       "      <th>7023</th>\n",
       "      <th>7024</th>\n",
       "      <th>7025</th>\n",
       "      <th>7026</th>\n",
       "      <th>7027</th>\n",
       "      <th>7028</th>\n",
       "      <th>7029</th>\n",
       "    </tr>\n",
       "    <tr>\n",
       "      <th>0</th>\n",
       "      <th></th>\n",
       "      <th></th>\n",
       "      <th></th>\n",
       "      <th></th>\n",
       "      <th></th>\n",
       "      <th></th>\n",
       "      <th></th>\n",
       "      <th></th>\n",
       "      <th></th>\n",
       "      <th></th>\n",
       "      <th></th>\n",
       "      <th></th>\n",
       "      <th></th>\n",
       "      <th></th>\n",
       "      <th></th>\n",
       "      <th></th>\n",
       "      <th></th>\n",
       "      <th></th>\n",
       "      <th></th>\n",
       "      <th></th>\n",
       "      <th></th>\n",
       "    </tr>\n",
       "  </thead>\n",
       "  <tbody>\n",
       "    <tr>\n",
       "      <th>SGIP1</th>\n",
       "      <td>NM_032291</td>\n",
       "      <td>0.0</td>\n",
       "      <td>0.0</td>\n",
       "      <td>0.0</td>\n",
       "      <td>0.0</td>\n",
       "      <td>0.0</td>\n",
       "      <td>0.000000</td>\n",
       "      <td>0.0</td>\n",
       "      <td>0.000000</td>\n",
       "      <td>0.000000</td>\n",
       "      <td>...</td>\n",
       "      <td>0</td>\n",
       "      <td>0</td>\n",
       "      <td>0</td>\n",
       "      <td>7</td>\n",
       "      <td>0</td>\n",
       "      <td>4</td>\n",
       "      <td>0</td>\n",
       "      <td>0</td>\n",
       "      <td>0</td>\n",
       "      <td>0</td>\n",
       "    </tr>\n",
       "    <tr>\n",
       "      <th>AZIN2</th>\n",
       "      <td>NM_052998+NM_001293562</td>\n",
       "      <td>0.0</td>\n",
       "      <td>0.0</td>\n",
       "      <td>0.0</td>\n",
       "      <td>0.0</td>\n",
       "      <td>0.0</td>\n",
       "      <td>41.519287</td>\n",
       "      <td>0.0</td>\n",
       "      <td>0.000000</td>\n",
       "      <td>0.000000</td>\n",
       "      <td>...</td>\n",
       "      <td>0</td>\n",
       "      <td>0</td>\n",
       "      <td>0</td>\n",
       "      <td>16</td>\n",
       "      <td>0</td>\n",
       "      <td>0</td>\n",
       "      <td>0</td>\n",
       "      <td>0</td>\n",
       "      <td>0</td>\n",
       "      <td>4</td>\n",
       "    </tr>\n",
       "    <tr>\n",
       "      <th>CLIC4</th>\n",
       "      <td>NM_013943</td>\n",
       "      <td>0.0</td>\n",
       "      <td>0.0</td>\n",
       "      <td>0.0</td>\n",
       "      <td>0.0</td>\n",
       "      <td>0.0</td>\n",
       "      <td>0.000000</td>\n",
       "      <td>0.0</td>\n",
       "      <td>0.000000</td>\n",
       "      <td>5.463685</td>\n",
       "      <td>...</td>\n",
       "      <td>2</td>\n",
       "      <td>20</td>\n",
       "      <td>64</td>\n",
       "      <td>18</td>\n",
       "      <td>0</td>\n",
       "      <td>0</td>\n",
       "      <td>0</td>\n",
       "      <td>0</td>\n",
       "      <td>0</td>\n",
       "      <td>1</td>\n",
       "    </tr>\n",
       "    <tr>\n",
       "      <th>AGBL4</th>\n",
       "      <td>NM_032785</td>\n",
       "      <td>0.0</td>\n",
       "      <td>0.0</td>\n",
       "      <td>0.0</td>\n",
       "      <td>0.0</td>\n",
       "      <td>0.0</td>\n",
       "      <td>0.000000</td>\n",
       "      <td>0.0</td>\n",
       "      <td>0.000000</td>\n",
       "      <td>0.000000</td>\n",
       "      <td>...</td>\n",
       "      <td>0</td>\n",
       "      <td>0</td>\n",
       "      <td>0</td>\n",
       "      <td>0</td>\n",
       "      <td>0</td>\n",
       "      <td>0</td>\n",
       "      <td>5</td>\n",
       "      <td>0</td>\n",
       "      <td>0</td>\n",
       "      <td>0</td>\n",
       "    </tr>\n",
       "    <tr>\n",
       "      <th>NECAP2</th>\n",
       "      <td>NM_001145277+NM_001145278+NM_018090</td>\n",
       "      <td>0.0</td>\n",
       "      <td>0.0</td>\n",
       "      <td>0.0</td>\n",
       "      <td>0.0</td>\n",
       "      <td>0.0</td>\n",
       "      <td>13.992725</td>\n",
       "      <td>0.0</td>\n",
       "      <td>18.924347</td>\n",
       "      <td>44.923718</td>\n",
       "      <td>...</td>\n",
       "      <td>0</td>\n",
       "      <td>0</td>\n",
       "      <td>0</td>\n",
       "      <td>14</td>\n",
       "      <td>0</td>\n",
       "      <td>1</td>\n",
       "      <td>47</td>\n",
       "      <td>7</td>\n",
       "      <td>0</td>\n",
       "      <td>6</td>\n",
       "    </tr>\n",
       "  </tbody>\n",
       "</table>\n",
       "<p>5 rows × 7029 columns</p>\n",
       "</div>"
      ],
      "text/plain": [
       "                                       1     2     3     4     5     6     \\\n",
       "0                                                                           \n",
       "SGIP1                             NM_032291   0.0   0.0   0.0   0.0   0.0   \n",
       "AZIN2                NM_052998+NM_001293562   0.0   0.0   0.0   0.0   0.0   \n",
       "CLIC4                             NM_013943   0.0   0.0   0.0   0.0   0.0   \n",
       "AGBL4                             NM_032785   0.0   0.0   0.0   0.0   0.0   \n",
       "NECAP2  NM_001145277+NM_001145278+NM_018090   0.0   0.0   0.0   0.0   0.0   \n",
       "\n",
       "             7     8          9          10    ...  7020  7021  7022  7023  \\\n",
       "0                                              ...                           \n",
       "SGIP1    0.000000   0.0   0.000000   0.000000  ...     0     0     0     7   \n",
       "AZIN2   41.519287   0.0   0.000000   0.000000  ...     0     0     0    16   \n",
       "CLIC4    0.000000   0.0   0.000000   5.463685  ...     2    20    64    18   \n",
       "AGBL4    0.000000   0.0   0.000000   0.000000  ...     0     0     0     0   \n",
       "NECAP2  13.992725   0.0  18.924347  44.923718  ...     0     0     0    14   \n",
       "\n",
       "        7024  7025  7026  7027  7028  7029  \n",
       "0                                           \n",
       "SGIP1      0     4     0     0     0     0  \n",
       "AZIN2      0     0     0     0     0     4  \n",
       "CLIC4      0     0     0     0     0     1  \n",
       "AGBL4      0     0     5     0     0     0  \n",
       "NECAP2     0     1    47     7     0     6  \n",
       "\n",
       "[5 rows x 7029 columns]"
      ]
     },
     "execution_count": 3,
     "metadata": {},
     "output_type": "execute_result"
    }
   ],
   "source": [
    "cts.head()"
   ]
  },
  {
   "cell_type": "code",
   "execution_count": 4,
   "metadata": {},
   "outputs": [
    {
     "data": {
      "text/plain": [
       "(26271, 7029)"
      ]
     },
     "execution_count": 4,
     "metadata": {},
     "output_type": "execute_result"
    }
   ],
   "source": [
    "cts.shape"
   ]
  },
  {
   "cell_type": "code",
   "execution_count": 5,
   "metadata": {},
   "outputs": [],
   "source": [
    "cts1 = cts.iloc[:,3515:]"
   ]
  },
  {
   "cell_type": "code",
   "execution_count": 6,
   "metadata": {},
   "outputs": [],
   "source": [
    "df = pd.read_csv(\"https://www.ebi.ac.uk/arrayexpress/files/E-MTAB-5061/E-MTAB-5061.processed.1.zip\",\\\n",
    "                 sep='\\t',nrows=1, header=None, index_col=0)\n",
    "cts1.columns=df.iloc[0]\n",
    "cts = cts1"
   ]
  },
  {
   "cell_type": "markdown",
   "metadata": {},
   "source": [
    "get annotation"
   ]
  },
  {
   "cell_type": "code",
   "execution_count": 7,
   "metadata": {},
   "outputs": [],
   "source": [
    "obs = pd.read_csv(\"https://www.ebi.ac.uk/arrayexpress/files/E-MTAB-5061/E-MTAB-5061.sdrf.txt\",\\\n",
    "                 sep='\\t',index_col=0)"
   ]
  },
  {
   "cell_type": "code",
   "execution_count": 8,
   "metadata": {},
   "outputs": [
    {
     "name": "stderr",
     "output_type": "stream",
     "text": [
      "Variable names are not unique. To make them unique, call `.var_names_make_unique`.\n",
      "Variable names are not unique. To make them unique, call `.var_names_make_unique`.\n",
      "Variable names are not unique. To make them unique, call `.var_names_make_unique`.\n"
     ]
    }
   ],
   "source": [
    "ad = sc.AnnData(scipy.sparse.csr_matrix(cts.values.T))\n",
    "ad.obs_names = cts.columns\n",
    "ad.var_names = cts.index\n",
    "ad = ad[ad.obs_names.isin(obs.index),:]\n",
    "ad.obs = obs.loc[ad.obs_names]"
   ]
  },
  {
   "cell_type": "code",
   "execution_count": 9,
   "metadata": {},
   "outputs": [],
   "source": [
    "ad.var_names_make_unique()"
   ]
  },
  {
   "cell_type": "code",
   "execution_count": 10,
   "metadata": {},
   "outputs": [],
   "source": [
    "ad.raw = sc.pp.log1p(ad,copy=True)"
   ]
  },
  {
   "cell_type": "code",
   "execution_count": 5,
   "metadata": {},
   "outputs": [],
   "source": [
    "ad.obs['cell'] = ad.obs['Characteristics[cell type]']"
   ]
  },
  {
   "cell_type": "code",
   "execution_count": 6,
   "metadata": {},
   "outputs": [],
   "source": [
    "ad.write(\"../write/Segerstolpe.h5\")"
   ]
  },
  {
   "cell_type": "code",
   "execution_count": 2,
   "metadata": {},
   "outputs": [],
   "source": [
    "ad = sc.read('../write/Segerstolpe.h5')"
   ]
  },
  {
   "cell_type": "code",
   "execution_count": 3,
   "metadata": {},
   "outputs": [
    {
     "data": {
      "text/plain": [
       "<3514x26271 sparse matrix of type '<class 'numpy.float32'>'\n",
       "\twith 15866321 stored elements in Compressed Sparse Row format>"
      ]
     },
     "execution_count": 3,
     "metadata": {},
     "output_type": "execute_result"
    }
   ],
   "source": [
    "ad.X"
   ]
  },
  {
   "cell_type": "code",
   "execution_count": 4,
   "metadata": {},
   "outputs": [
    {
     "data": {
      "text/plain": [
       "<3514x26271 sparse matrix of type '<class 'numpy.float32'>'\n",
       "\twith 15866321 stored elements in Compressed Sparse Row format>"
      ]
     },
     "execution_count": 4,
     "metadata": {},
     "output_type": "execute_result"
    }
   ],
   "source": [
    "ad.raw.X"
   ]
  },
  {
   "cell_type": "code",
   "execution_count": null,
   "metadata": {},
   "outputs": [],
   "source": []
  },
  {
   "cell_type": "code",
   "execution_count": 12,
   "metadata": {},
   "outputs": [
    {
     "name": "stderr",
     "output_type": "stream",
     "text": [
      "Trying to set attribute `.obs` of view, making a copy.\n"
     ]
    }
   ],
   "source": [
    "ad = ad[:,~ad.var_names.str.startswith('ERCC')]\n",
    "ad = ad[~ad.obs['Characteristics[cell type]'].astype(str).isin(['not applicable',\\\n",
    "                                                    'mast cell','epsilon cell',\\\n",
    "                                                    'MHC class II cell',\\\n",
    "                                                    'unclassified endocrine cell',\\\n",
    "                                                    'unclassified cell','co-expression cell']),:]\n",
    "sc.pp.filter_cells(ad, min_genes=200)\n",
    "sc.pp.filter_genes(ad, min_cells=3)"
   ]
  },
  {
   "cell_type": "code",
   "execution_count": 13,
   "metadata": {},
   "outputs": [],
   "source": [
    "# ad.obs['n_counts'] = ad.X.sum(axis=1)"
   ]
  },
  {
   "cell_type": "code",
   "execution_count": 14,
   "metadata": {},
   "outputs": [],
   "source": [
    "sc.pp.normalize_per_cell(ad, counts_per_cell_after=1e4)\n",
    "sc.pp.log1p(ad)\n",
    "# filter_result = sc.pp.filter_genes_dispersion(\n",
    "#     ad.X, min_mean=0.4, max_mean=10, min_disp=0.35)\n",
    "# sc.pl.filter_genes_dispersion(filter_result)\n",
    "# print(\"n_HVGs: %d\"%sum(filter_result.gene_subset))\n",
    "# ad = ad[:, filter_result.gene_subset]\n",
    "sc.pp.highly_variable_genes(ad, min_mean=0.4, max_mean=10, min_disp=0.35)"
   ]
  },
  {
   "cell_type": "code",
   "execution_count": 15,
   "metadata": {},
   "outputs": [],
   "source": [
    "ad.obs['gender'] = ad.obs['Characteristics[sex]']\n",
    "ad.obs['disease'] = ad.obs['Factor Value[disease]']\n",
    "ad.obs['individual'] = ad.obs['Characteristics[individual]']\n",
    "ad.obs['cell'] = ad.obs['Characteristics[cell type]']"
   ]
  },
  {
   "cell_type": "code",
   "execution_count": 16,
   "metadata": {
    "scrolled": false
   },
   "outputs": [],
   "source": [
    "# selected = np.std(ad.X, axis=0).argsort()[-2000:][::-1]\n",
    "# ad = ad[:, selected]\n",
    "ad.obs['gender'] = ad.obs['gender'].astype('category')\n",
    "ad.obs['disease'] = ad.obs['disease'].astype('category')\n",
    "ad.obs['individual'] = ad.obs['individual'].astype('category')\n",
    "# sc.pp.log1p(ad)\n",
    "sc_pp_regress_out(ad,keys=['n_counts','n_genes','individual'])\n",
    "sc.pp.scale(ad, max_value=10)\n",
    "sc.tl.pca(ad)\n",
    "\n",
    "sc.tl.tsne(ad)\n",
    "sc.pp.neighbors(ad)\n",
    "sc.tl.umap(ad)\n",
    "sc.tl.louvain(ad, resolution=1.0)"
   ]
  },
  {
   "cell_type": "code",
   "execution_count": 17,
   "metadata": {},
   "outputs": [
    {
     "data": {
      "image/png": "[encoded data removed]",
      "text/plain": [
       "<Figure size 842.4x360 with 2 Axes>"
      ]
     },
     "metadata": {},
     "output_type": "display_data"
    }
   ],
   "source": [
    "figsize(5,5)\n",
    "sc.pl.tsne(ad, color=['cell','individual'])"
   ]
  },
  {
   "cell_type": "code",
   "execution_count": 18,
   "metadata": {},
   "outputs": [],
   "source": [
    "ad.write(\"../write/Segerstolpe_reg.h5\")"
   ]
  },
  {
   "cell_type": "markdown",
   "metadata": {},
   "source": [
    "# End"
   ]
  },
  {
   "cell_type": "code",
   "execution_count": null,
   "metadata": {
    "collapsed": true
   },
   "outputs": [],
   "source": []
  }
 ],
 "metadata": {
  "kernelspec": {
   "display_name": "Python 3",
   "language": "python",
   "name": "python3"
  },
  "language_info": {
   "codemirror_mode": {
    "name": "ipython",
    "version": 3
   },
   "file_extension": ".py",
   "mimetype": "text/x-python",
   "name": "python",
   "nbconvert_exporter": "python",
   "pygments_lexer": "ipython3",
   "version": "3.7.3"
  }
 },
 "nbformat": 4,
 "nbformat_minor": 2
}
