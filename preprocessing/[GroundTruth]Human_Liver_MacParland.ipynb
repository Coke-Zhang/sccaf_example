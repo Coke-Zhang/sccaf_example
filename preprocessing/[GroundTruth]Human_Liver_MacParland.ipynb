{
 "cells": [
  {
   "cell_type": "markdown",
   "metadata": {},
   "source": [
    "# MacParland SA. et al. Human Liver (10X)\n",
    "\n",
    "## Reference:    \n",
    "[MacParland SA, Liu JC, Ma XZ, Innes BT et al. Single cell RNA sequencing of human liver reveals distinct intrahepatic macrophage populations. Nat Commun 2018 Oct 22;9(1):4383.](https://www.ncbi.nlm.nih.gov/pubmed/30348985)\n",
    "\n",
    "## GEO:    \n",
    "https://www.ncbi.nlm.nih.gov/geo/query/acc.cgi?acc=GSE115469"
   ]
  },
  {
   "cell_type": "code",
   "execution_count": 1,
   "metadata": {},
   "outputs": [
    {
     "name": "stdout",
     "output_type": "stream",
     "text": [
      "Populating the interactive namespace from numpy and matplotlib\n"
     ]
    }
   ],
   "source": [
    "%pylab inline\n",
    "\n",
    "import warnings\n",
    "warnings.filterwarnings(\"ignore\")\n",
    "\n",
    "from SCCAF import *"
   ]
  },
  {
   "cell_type": "markdown",
   "metadata": {},
   "source": [
    "download counts"
   ]
  },
  {
   "cell_type": "code",
   "execution_count": 2,
   "metadata": {},
   "outputs": [],
   "source": [
    "cts = pd.read_csv(\"ftp://ftp.ncbi.nlm.nih.gov/geo/series/GSE115nnn/GSE115469/suppl/GSE115469_Data.csv.gz\",\\\n",
    "                 index_col=0)"
   ]
  },
  {
   "cell_type": "code",
   "execution_count": 3,
   "metadata": {},
   "outputs": [
    {
     "data": {
      "text/html": [
       "<div>\n",
       "<style scoped>\n",
       "    .dataframe tbody tr th:only-of-type {\n",
       "        vertical-align: middle;\n",
       "    }\n",
       "\n",
       "    .dataframe tbody tr th {\n",
       "        vertical-align: top;\n",
       "    }\n",
       "\n",
       "    .dataframe thead th {\n",
       "        text-align: right;\n",
       "    }\n",
       "</style>\n",
       "<table border=\"1\" class=\"dataframe\">\n",
       "  <thead>\n",
       "    <tr style=\"text-align: right;\">\n",
       "      <th></th>\n",
       "      <th>P1TLH_AAACCTGAGCAGCCTC_1</th>\n",
       "      <th>P1TLH_AAACCTGTCCTCATTA_1</th>\n",
       "      <th>P1TLH_AAACCTGTCTAAGCCA_1</th>\n",
       "      <th>P1TLH_AAACGGGAGTAGGCCA_1</th>\n",
       "      <th>P1TLH_AAACGGGGTTCGGGCT_1</th>\n",
       "      <th>P1TLH_AAAGCAACAGTAAGAT_1</th>\n",
       "      <th>P1TLH_AAAGCAAGTCGCGTGT_1</th>\n",
       "      <th>P1TLH_AAAGCAAGTGTTTGTG_1</th>\n",
       "      <th>P1TLH_AAAGCAAGTTGATTCG_1</th>\n",
       "      <th>P1TLH_AAAGTAGCAGACGTAG_1</th>\n",
       "      <th>...</th>\n",
       "      <th>P5TLH_TTTCCTCTCAGTGTTG_1</th>\n",
       "      <th>P5TLH_TTTGCGCAGGATGGTC_1</th>\n",
       "      <th>P5TLH_TTTGCGCCAATGACCT_1</th>\n",
       "      <th>P5TLH_TTTGCGCCATCCTAGA_1</th>\n",
       "      <th>P5TLH_TTTGTCAGTCAGGACA_1</th>\n",
       "      <th>P5TLH_TTTGTCAGTGTTCTTT_1</th>\n",
       "      <th>P5TLH_TTTGTCAGTTTAGGAA_1</th>\n",
       "      <th>P5TLH_TTTGTCATCAGCTTAG_1</th>\n",
       "      <th>P5TLH_TTTGTCATCCACGCAG_1</th>\n",
       "      <th>P5TLH_TTTGTCATCGGCATCG_1</th>\n",
       "    </tr>\n",
       "  </thead>\n",
       "  <tbody>\n",
       "    <tr>\n",
       "      <th>RP11-34P13.7</th>\n",
       "      <td>0.0</td>\n",
       "      <td>0.00000</td>\n",
       "      <td>0.0</td>\n",
       "      <td>0.0</td>\n",
       "      <td>0.0</td>\n",
       "      <td>0.0</td>\n",
       "      <td>0.0</td>\n",
       "      <td>0.000000</td>\n",
       "      <td>0.0</td>\n",
       "      <td>0.0</td>\n",
       "      <td>...</td>\n",
       "      <td>0.0</td>\n",
       "      <td>0.0</td>\n",
       "      <td>0.0</td>\n",
       "      <td>0.0</td>\n",
       "      <td>0.0</td>\n",
       "      <td>0.0</td>\n",
       "      <td>0.000000</td>\n",
       "      <td>0.0</td>\n",
       "      <td>0.0</td>\n",
       "      <td>0.0</td>\n",
       "    </tr>\n",
       "    <tr>\n",
       "      <th>FO538757.2</th>\n",
       "      <td>0.0</td>\n",
       "      <td>0.00000</td>\n",
       "      <td>0.0</td>\n",
       "      <td>0.0</td>\n",
       "      <td>0.0</td>\n",
       "      <td>0.0</td>\n",
       "      <td>0.0</td>\n",
       "      <td>0.000000</td>\n",
       "      <td>0.0</td>\n",
       "      <td>0.0</td>\n",
       "      <td>...</td>\n",
       "      <td>0.0</td>\n",
       "      <td>0.0</td>\n",
       "      <td>0.0</td>\n",
       "      <td>0.0</td>\n",
       "      <td>0.0</td>\n",
       "      <td>0.0</td>\n",
       "      <td>0.000000</td>\n",
       "      <td>0.0</td>\n",
       "      <td>0.0</td>\n",
       "      <td>0.0</td>\n",
       "    </tr>\n",
       "    <tr>\n",
       "      <th>AP006222.2</th>\n",
       "      <td>0.0</td>\n",
       "      <td>0.31476</td>\n",
       "      <td>0.0</td>\n",
       "      <td>0.0</td>\n",
       "      <td>0.0</td>\n",
       "      <td>0.0</td>\n",
       "      <td>0.0</td>\n",
       "      <td>0.504068</td>\n",
       "      <td>0.0</td>\n",
       "      <td>0.0</td>\n",
       "      <td>...</td>\n",
       "      <td>0.0</td>\n",
       "      <td>0.0</td>\n",
       "      <td>0.0</td>\n",
       "      <td>0.0</td>\n",
       "      <td>0.0</td>\n",
       "      <td>0.0</td>\n",
       "      <td>1.140429</td>\n",
       "      <td>0.0</td>\n",
       "      <td>0.0</td>\n",
       "      <td>0.0</td>\n",
       "    </tr>\n",
       "    <tr>\n",
       "      <th>RP4-669L17.10</th>\n",
       "      <td>0.0</td>\n",
       "      <td>0.00000</td>\n",
       "      <td>0.0</td>\n",
       "      <td>0.0</td>\n",
       "      <td>0.0</td>\n",
       "      <td>0.0</td>\n",
       "      <td>0.0</td>\n",
       "      <td>0.000000</td>\n",
       "      <td>0.0</td>\n",
       "      <td>0.0</td>\n",
       "      <td>...</td>\n",
       "      <td>0.0</td>\n",
       "      <td>0.0</td>\n",
       "      <td>0.0</td>\n",
       "      <td>0.0</td>\n",
       "      <td>0.0</td>\n",
       "      <td>0.0</td>\n",
       "      <td>0.000000</td>\n",
       "      <td>0.0</td>\n",
       "      <td>0.0</td>\n",
       "      <td>0.0</td>\n",
       "    </tr>\n",
       "    <tr>\n",
       "      <th>RP5-857K21.4</th>\n",
       "      <td>0.0</td>\n",
       "      <td>0.00000</td>\n",
       "      <td>0.0</td>\n",
       "      <td>0.0</td>\n",
       "      <td>0.0</td>\n",
       "      <td>0.0</td>\n",
       "      <td>0.0</td>\n",
       "      <td>0.000000</td>\n",
       "      <td>0.0</td>\n",
       "      <td>0.0</td>\n",
       "      <td>...</td>\n",
       "      <td>0.0</td>\n",
       "      <td>0.0</td>\n",
       "      <td>0.0</td>\n",
       "      <td>0.0</td>\n",
       "      <td>0.0</td>\n",
       "      <td>0.0</td>\n",
       "      <td>0.000000</td>\n",
       "      <td>0.0</td>\n",
       "      <td>0.0</td>\n",
       "      <td>0.0</td>\n",
       "    </tr>\n",
       "  </tbody>\n",
       "</table>\n",
       "<p>5 rows × 8444 columns</p>\n",
       "</div>"
      ],
      "text/plain": [
       "               P1TLH_AAACCTGAGCAGCCTC_1  P1TLH_AAACCTGTCCTCATTA_1  \\\n",
       "RP11-34P13.7                        0.0                   0.00000   \n",
       "FO538757.2                          0.0                   0.00000   \n",
       "AP006222.2                          0.0                   0.31476   \n",
       "RP4-669L17.10                       0.0                   0.00000   \n",
       "RP5-857K21.4                        0.0                   0.00000   \n",
       "\n",
       "               P1TLH_AAACCTGTCTAAGCCA_1  P1TLH_AAACGGGAGTAGGCCA_1  \\\n",
       "RP11-34P13.7                        0.0                       0.0   \n",
       "FO538757.2                          0.0                       0.0   \n",
       "AP006222.2                          0.0                       0.0   \n",
       "RP4-669L17.10                       0.0                       0.0   \n",
       "RP5-857K21.4                        0.0                       0.0   \n",
       "\n",
       "               P1TLH_AAACGGGGTTCGGGCT_1  P1TLH_AAAGCAACAGTAAGAT_1  \\\n",
       "RP11-34P13.7                        0.0                       0.0   \n",
       "FO538757.2                          0.0                       0.0   \n",
       "AP006222.2                          0.0                       0.0   \n",
       "RP4-669L17.10                       0.0                       0.0   \n",
       "RP5-857K21.4                        0.0                       0.0   \n",
       "\n",
       "               P1TLH_AAAGCAAGTCGCGTGT_1  P1TLH_AAAGCAAGTGTTTGTG_1  \\\n",
       "RP11-34P13.7                        0.0                  0.000000   \n",
       "FO538757.2                          0.0                  0.000000   \n",
       "AP006222.2                          0.0                  0.504068   \n",
       "RP4-669L17.10                       0.0                  0.000000   \n",
       "RP5-857K21.4                        0.0                  0.000000   \n",
       "\n",
       "               P1TLH_AAAGCAAGTTGATTCG_1  P1TLH_AAAGTAGCAGACGTAG_1  ...  \\\n",
       "RP11-34P13.7                        0.0                       0.0  ...   \n",
       "FO538757.2                          0.0                       0.0  ...   \n",
       "AP006222.2                          0.0                       0.0  ...   \n",
       "RP4-669L17.10                       0.0                       0.0  ...   \n",
       "RP5-857K21.4                        0.0                       0.0  ...   \n",
       "\n",
       "               P5TLH_TTTCCTCTCAGTGTTG_1  P5TLH_TTTGCGCAGGATGGTC_1  \\\n",
       "RP11-34P13.7                        0.0                       0.0   \n",
       "FO538757.2                          0.0                       0.0   \n",
       "AP006222.2                          0.0                       0.0   \n",
       "RP4-669L17.10                       0.0                       0.0   \n",
       "RP5-857K21.4                        0.0                       0.0   \n",
       "\n",
       "               P5TLH_TTTGCGCCAATGACCT_1  P5TLH_TTTGCGCCATCCTAGA_1  \\\n",
       "RP11-34P13.7                        0.0                       0.0   \n",
       "FO538757.2                          0.0                       0.0   \n",
       "AP006222.2                          0.0                       0.0   \n",
       "RP4-669L17.10                       0.0                       0.0   \n",
       "RP5-857K21.4                        0.0                       0.0   \n",
       "\n",
       "               P5TLH_TTTGTCAGTCAGGACA_1  P5TLH_TTTGTCAGTGTTCTTT_1  \\\n",
       "RP11-34P13.7                        0.0                       0.0   \n",
       "FO538757.2                          0.0                       0.0   \n",
       "AP006222.2                          0.0                       0.0   \n",
       "RP4-669L17.10                       0.0                       0.0   \n",
       "RP5-857K21.4                        0.0                       0.0   \n",
       "\n",
       "               P5TLH_TTTGTCAGTTTAGGAA_1  P5TLH_TTTGTCATCAGCTTAG_1  \\\n",
       "RP11-34P13.7                   0.000000                       0.0   \n",
       "FO538757.2                     0.000000                       0.0   \n",
       "AP006222.2                     1.140429                       0.0   \n",
       "RP4-669L17.10                  0.000000                       0.0   \n",
       "RP5-857K21.4                   0.000000                       0.0   \n",
       "\n",
       "               P5TLH_TTTGTCATCCACGCAG_1  P5TLH_TTTGTCATCGGCATCG_1  \n",
       "RP11-34P13.7                        0.0                       0.0  \n",
       "FO538757.2                          0.0                       0.0  \n",
       "AP006222.2                          0.0                       0.0  \n",
       "RP4-669L17.10                       0.0                       0.0  \n",
       "RP5-857K21.4                        0.0                       0.0  \n",
       "\n",
       "[5 rows x 8444 columns]"
      ]
     },
     "execution_count": 3,
     "metadata": {},
     "output_type": "execute_result"
    }
   ],
   "source": [
    "cts.head()"
   ]
  },
  {
   "cell_type": "code",
   "execution_count": 4,
   "metadata": {},
   "outputs": [
    {
     "data": {
      "text/plain": [
       "(20007, 8444)"
      ]
     },
     "execution_count": 4,
     "metadata": {},
     "output_type": "execute_result"
    }
   ],
   "source": [
    "cts.shape"
   ]
  },
  {
   "cell_type": "code",
   "execution_count": 5,
   "metadata": {},
   "outputs": [],
   "source": [
    "df = pd.read_csv(\"MacParland_levels.csv\", index_col=0)\n",
    "dd = dict(zip(df.index, df['x']))\n",
    "obs = pd.read_csv(\"MacParland_clusters.csv\", index_col=0)"
   ]
  },
  {
   "cell_type": "code",
   "execution_count": 6,
   "metadata": {},
   "outputs": [],
   "source": [
    "obs['cell'] = obs['res.0.8'].map(dd)"
   ]
  },
  {
   "cell_type": "code",
   "execution_count": 7,
   "metadata": {},
   "outputs": [
    {
     "data": {
      "text/html": [
       "<div>\n",
       "<style scoped>\n",
       "    .dataframe tbody tr th:only-of-type {\n",
       "        vertical-align: middle;\n",
       "    }\n",
       "\n",
       "    .dataframe tbody tr th {\n",
       "        vertical-align: top;\n",
       "    }\n",
       "\n",
       "    .dataframe thead th {\n",
       "        text-align: right;\n",
       "    }\n",
       "</style>\n",
       "<table border=\"1\" class=\"dataframe\">\n",
       "  <thead>\n",
       "    <tr style=\"text-align: right;\">\n",
       "      <th></th>\n",
       "      <th>total_counts</th>\n",
       "      <th>total_features</th>\n",
       "      <th>orig.ident</th>\n",
       "      <th>res.0.8</th>\n",
       "      <th>S.Score</th>\n",
       "      <th>G2M.Score</th>\n",
       "      <th>Phase</th>\n",
       "      <th>cell</th>\n",
       "    </tr>\n",
       "  </thead>\n",
       "  <tbody>\n",
       "    <tr>\n",
       "      <th>P1TLH_AAACCTGAGCAGCCTC_1</th>\n",
       "      <td>2943</td>\n",
       "      <td>1427</td>\n",
       "      <td>P1TLH</td>\n",
       "      <td>12</td>\n",
       "      <td>0.046089</td>\n",
       "      <td>0.000349</td>\n",
       "      <td>S</td>\n",
       "      <td>LSECs</td>\n",
       "    </tr>\n",
       "    <tr>\n",
       "      <th>P1TLH_AAACCTGTCCTCATTA_1</th>\n",
       "      <td>10897</td>\n",
       "      <td>2522</td>\n",
       "      <td>P1TLH</td>\n",
       "      <td>17</td>\n",
       "      <td>-0.000357</td>\n",
       "      <td>0.009434</td>\n",
       "      <td>G2M</td>\n",
       "      <td>Cholangiocytes</td>\n",
       "    </tr>\n",
       "    <tr>\n",
       "      <th>P1TLH_AAACCTGTCTAAGCCA_1</th>\n",
       "      <td>1914</td>\n",
       "      <td>1018</td>\n",
       "      <td>P1TLH</td>\n",
       "      <td>12</td>\n",
       "      <td>0.012811</td>\n",
       "      <td>-0.056561</td>\n",
       "      <td>S</td>\n",
       "      <td>LSECs</td>\n",
       "    </tr>\n",
       "    <tr>\n",
       "      <th>P1TLH_AAACGGGAGTAGGCCA_1</th>\n",
       "      <td>5574</td>\n",
       "      <td>1798</td>\n",
       "      <td>P1TLH</td>\n",
       "      <td>10</td>\n",
       "      <td>-0.011324</td>\n",
       "      <td>-0.047102</td>\n",
       "      <td>G1</td>\n",
       "      <td>Macrophages</td>\n",
       "    </tr>\n",
       "    <tr>\n",
       "      <th>P1TLH_AAACGGGGTTCGGGCT_1</th>\n",
       "      <td>3700</td>\n",
       "      <td>1417</td>\n",
       "      <td>P1TLH</td>\n",
       "      <td>2</td>\n",
       "      <td>0.057467</td>\n",
       "      <td>-0.003861</td>\n",
       "      <td>S</td>\n",
       "      <td>ab T cells</td>\n",
       "    </tr>\n",
       "  </tbody>\n",
       "</table>\n",
       "</div>"
      ],
      "text/plain": [
       "                          total_counts  total_features orig.ident  res.0.8  \\\n",
       "P1TLH_AAACCTGAGCAGCCTC_1          2943            1427      P1TLH       12   \n",
       "P1TLH_AAACCTGTCCTCATTA_1         10897            2522      P1TLH       17   \n",
       "P1TLH_AAACCTGTCTAAGCCA_1          1914            1018      P1TLH       12   \n",
       "P1TLH_AAACGGGAGTAGGCCA_1          5574            1798      P1TLH       10   \n",
       "P1TLH_AAACGGGGTTCGGGCT_1          3700            1417      P1TLH        2   \n",
       "\n",
       "                           S.Score  G2M.Score Phase            cell  \n",
       "P1TLH_AAACCTGAGCAGCCTC_1  0.046089   0.000349     S           LSECs  \n",
       "P1TLH_AAACCTGTCCTCATTA_1 -0.000357   0.009434   G2M  Cholangiocytes  \n",
       "P1TLH_AAACCTGTCTAAGCCA_1  0.012811  -0.056561     S           LSECs  \n",
       "P1TLH_AAACGGGAGTAGGCCA_1 -0.011324  -0.047102    G1     Macrophages  \n",
       "P1TLH_AAACGGGGTTCGGGCT_1  0.057467  -0.003861     S      ab T cells  "
      ]
     },
     "execution_count": 7,
     "metadata": {},
     "output_type": "execute_result"
    }
   ],
   "source": [
    "obs.head()"
   ]
  },
  {
   "cell_type": "code",
   "execution_count": 8,
   "metadata": {},
   "outputs": [],
   "source": [
    "ad = sc.AnnData(scipy.sparse.csr_matrix(cts.values.T))\n",
    "ad.obs_names = cts.columns\n",
    "ad.var_names = cts.index\n",
    "ad = ad[ad.obs_names.isin(obs.index),:]\n",
    "ad.obs = obs.loc[ad.obs_names]"
   ]
  },
  {
   "cell_type": "code",
   "execution_count": 9,
   "metadata": {},
   "outputs": [],
   "source": [
    "df = pd.read_csv(\"MacParland_tsne.csv\",index_col=0)"
   ]
  },
  {
   "cell_type": "code",
   "execution_count": 10,
   "metadata": {},
   "outputs": [],
   "source": [
    "ad.obsm['X_tsne'] = df.values"
   ]
  },
  {
   "cell_type": "code",
   "execution_count": 11,
   "metadata": {},
   "outputs": [
    {
     "name": "stderr",
     "output_type": "stream",
     "text": [
      "... storing 'orig.ident' as categorical\n",
      "... storing 'Phase' as categorical\n",
      "... storing 'cell' as categorical\n"
     ]
    },
    {
     "data": {
      "image/png": "[encoded data removed]",
      "text/plain": [
       "<Figure size 360x360 with 1 Axes>"
      ]
     },
     "metadata": {},
     "output_type": "display_data"
    }
   ],
   "source": [
    "ad.uns['cell_colors'] = default_20\n",
    "\n",
    "figsize(5,5)\n",
    "sc.pl.tsne(ad, color='cell')"
   ]
  },
  {
   "cell_type": "code",
   "execution_count": 12,
   "metadata": {},
   "outputs": [],
   "source": [
    "ad.raw = sc.pp.log1p(ad,copy=True)"
   ]
  },
  {
   "cell_type": "code",
   "execution_count": 13,
   "metadata": {},
   "outputs": [
    {
     "data": {
      "text/plain": [
       "(8444, 20007)"
      ]
     },
     "execution_count": 13,
     "metadata": {},
     "output_type": "execute_result"
    }
   ],
   "source": [
    "ad.shape"
   ]
  },
  {
   "cell_type": "code",
   "execution_count": 14,
   "metadata": {},
   "outputs": [],
   "source": [
    "ad.write(\"../write/MacParland2018Liver.h5\")"
   ]
  },
  {
   "cell_type": "code",
   "execution_count": 2,
   "metadata": {},
   "outputs": [],
   "source": [
    "ad = sc.read(\"../write/MacParland2018Liver.h5\")"
   ]
  },
  {
   "cell_type": "code",
   "execution_count": 15,
   "metadata": {},
   "outputs": [
    {
     "data": {
      "text/plain": [
       "<8444x20007 sparse matrix of type '<class 'numpy.float32'>'\n",
       "\twith 11085818 stored elements in Compressed Sparse Row format>"
      ]
     },
     "execution_count": 15,
     "metadata": {},
     "output_type": "execute_result"
    }
   ],
   "source": [
    "ad.X"
   ]
  },
  {
   "cell_type": "markdown",
   "metadata": {},
   "source": [
    "# End"
   ]
  },
  {
   "cell_type": "code",
   "execution_count": null,
   "metadata": {
    "collapsed": true
   },
   "outputs": [],
   "source": []
  }
 ],
 "metadata": {
  "kernelspec": {
   "display_name": "Python 3",
   "language": "python",
   "name": "python3"
  },
  "language_info": {
   "codemirror_mode": {
    "name": "ipython",
    "version": 3
   },
   "file_extension": ".py",
   "mimetype": "text/x-python",
   "name": "python",
   "nbconvert_exporter": "python",
   "pygments_lexer": "ipython3",
   "version": "3.7.3"
  }
 },
 "nbformat": 4,
 "nbformat_minor": 2
}
